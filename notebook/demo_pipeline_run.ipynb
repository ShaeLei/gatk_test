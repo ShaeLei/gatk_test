{
 "cells": [
  {
   "cell_type": "code",
   "execution_count": 2,
   "id": "95d8f371-97dd-47e9-b38f-94cd30f1d0b7",
   "metadata": {},
   "outputs": [],
   "source": [
    "import sys\n",
    "import os\n",
    "\n",
    "# Add project root to path\n",
    "sys.path.append(os.path.abspath(\"..\"))\n",
    "\n",
    "# Import pipeline modules\n",
    "from pipeline import main, preprocessing, alignment, variant_calling, validation, postprocessing"
   ]
  },
  {
   "cell_type": "code",
   "execution_count": null,
   "id": "0f9d4853-251c-4d37-b3f6-1ede3251b333",
   "metadata": {},
   "outputs": [],
   "source": [
    "import os\n",
    "from pipeline.preprocessing import QualityControl, AdapterTrimming, QualityTrimming\n",
    "\n",
    "# Configuration dictionary (adjust as needed)\n",
    "config = {\n",
    "    'threads': 4,\n",
    "    'memory': 8,\n",
    "    # Add more config options as needed\n",
    "}\n",
    "\n",
    "# Input and output directories\n",
    "input_dir = \"demo_data/fastq\"      # Directory containing your FASTQ files\n",
    "qc_output_dir = \"notebook/qc_reports\"\n",
    "trim_output_dir = \"notebook/trimmed\"\n",
    "quality_trim_output_dir = \"notebook/quality_trimmed\"\n",
    "\n",
    "# 1. Quality Control\n",
    "qc = QualityControl(config)\n",
    "qc_report_dir = qc.run_fastqc(input_dir, qc_output_dir)\n",
    "print(f\"FastQC reports saved to: {qc_report_dir}\")\n",
    "\n",
    "# 2. Adapter Trimming\n",
    "adapter_trimmer = AdapterTrimming(config)\n",
    "trimmed_dir = adapter_trimmer.run_cutadapt(input_dir, trim_output_dir)\n",
    "print(f\"Adapter-trimmed FASTQ files saved to: {trimmed_dir}\")\n",
    "\n",
    "# 3. Quality Trimming\n",
    "quality_trimmer = QualityTrimming(config)\n",
    "quality_trimmed_dir = quality_trimmer.run_trimmomatic(trimmed_dir, quality_trim_output_dir)\n",
    "print(f\"Quality-trimmed FASTQ files saved to: {quality_trimmed_dir}\")"
   ]
  }
 ],
 "metadata": {
  "kernelspec": {
   "display_name": "Python (nucleix)",
   "language": "python",
   "name": "nucleix"
  },
  "language_info": {
   "codemirror_mode": {
    "name": "ipython",
    "version": 3
   },
   "file_extension": ".py",
   "mimetype": "text/x-python",
   "name": "python",
   "nbconvert_exporter": "python",
   "pygments_lexer": "ipython3",
   "version": "3.13.5"
  }
 },
 "nbformat": 4,
 "nbformat_minor": 5
}
